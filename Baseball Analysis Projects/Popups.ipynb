{
 "cells": [
  {
   "cell_type": "markdown",
   "metadata": {},
   "source": [
    "*Tim Boudreau <br>\n",
    "tim.boudreau25@gmail.com* <br>\n",
    "https://github.com/timboudreau25/\n",
    "***"
   ]
  },
  {
   "cell_type": "markdown",
   "metadata": {},
   "source": [
    "# Predicting Batted Balls - Popups\n",
    "\n",
    "*note: my primary focus is popups, though this easily can be modified for all batted ball types*\n",
    "\n",
    "## Popups\n",
    "\n",
    "There are few guarantees in baseball. Three strikes and you're out. A ball hit fair 450 feet is a home run. And a popup should be caught. Popups are nearly guaranteed outs, placing value on them as a batted ball outcome. Knowing whether or not a pitcher can induce popups is valuable information, especially if it can be predicted. I chose to explore batted ball prediciton, specifically for popups, to see if I could predict popup rates for pitchers. I believe, if producing popups is a skill, a pitcher who is inducing fewer popups than predicted may be facing poor luck and is undervalued."
   ]
  },
  {
   "cell_type": "code",
   "execution_count": 27,
   "metadata": {
    "collapsed": true
   },
   "outputs": [],
   "source": [
    "%matplotlib inline\n",
    "\n",
    "from __future__ import division\n",
    "import pandas as pd\n",
    "import statsmodels.api as sm\n",
    "import numpy as np\n",
    "import sqlite3\n",
    "import seaborn as sns\n",
    "import matplotlib.pyplot as plt"
   ]
  },
  {
   "cell_type": "markdown",
   "metadata": {
    "collapsed": true
   },
   "source": [
    "## Data Source:\n",
    "\n",
    "The data I used to form my database is from BaseballSavant (https://baseballsavant.mlb.com/about), through it's Statcast search tool. My data consists of every pitch and outcome from April through August 2017.\n",
    "\n",
    "## Data Acquisition:\n",
    "\n",
    "### Database Formation:\n",
    "\n",
    "Locally, I created the database separate from running my analysis, as the formation took a few minutes on my machine to run. Using a SQL database saved me quite a bit of time when I would run my analysis.\n",
    "\n",
    "Due to limitations on query sizes through BaseballSavant, I could only export approximately 30,000 pitches per query, or about a week's worth of data. Before I formed my local database, I merged each week's data."
   ]
  },
  {
   "cell_type": "code",
   "execution_count": 28,
   "metadata": {
    "collapsed": true
   },
   "outputs": [],
   "source": [
    "# ## current directory of data files\n",
    "\n",
    "# cd = \"/Data/\"     # change if needed\n",
    "\n",
    "\n",
    "# ## create empty dataframe\n",
    "\n",
    "# data = pd.DataFrame()\n",
    "\n",
    "\n",
    "# ## loop through each sheet and append the previous one\n",
    "\n",
    "# for count in range(1, 23):\n",
    "# \timport_data = pd.read_csv(cd + \"savant_\" \n",
    "# \t\t+ str(count) + \".csv\")\n",
    "# \tdata = data.append(import_data)\n",
    "\n",
    "    \n",
    "# ## set any cells that say 'null' to numeric 123456789, and convert numeric columns to numeric\n",
    "\n",
    "# data = data.replace(to_replace = 'null', value = \"123456789\").apply(pd.to_numeric, errors = \"ignore\")\n",
    "\n",
    "\n",
    "## create/connect to database\n",
    "\n",
    "path = 'Data/mlb_data.db'\n",
    "conn = sqlite3.connect(path)\n",
    "c = conn.cursor()\n",
    "\n",
    "\n",
    "# # add dataframe to database\n",
    "\n",
    "# data.to_sql(\"MLB_2017\", conn, if_exists=\"replace\")"
   ]
  },
  {
   "cell_type": "markdown",
   "metadata": {},
   "source": [
    "### SQL Query in Database\n",
    "\n",
    "The variables I used to build my model were batted ball types, pitch types, release speed, release spin rate, and both horizontal and vertical movements. I also used player names, to analyze pitchers with the largest discrepencies."
   ]
  },
  {
   "cell_type": "code",
   "execution_count": null,
   "metadata": {
    "collapsed": false
   },
   "outputs": [],
   "source": [
    "## execute query and close connection\n",
    "\n",
    "data = pd.read_sql(\"\"\"SELECT bb_type, player_name, pitch_type, release_speed, \n",
    "\trelease_spin_rate, pfx_x, pfx_z, zone\n",
    "\tFROM MLB_2017\n",
    "\tWHERE bb_type != '123456789'\n",
    "\t;\"\"\", conn)\n",
    "c.close()"
   ]
  },
  {
   "cell_type": "markdown",
   "metadata": {},
   "source": [
    "## Data Preparation:\n",
    "\n",
    "### Create Dummy Variables & Clean the Data:\n",
    "\n",
    "I wrote code to ask for batted ball type, but for this analysis, I hard-wired the batted ball type of interest to be popups. To start, I made sure the sample of pitchers whose pitches were used was large enough - only pitchers with 100 or more balls in play were considered. I cleaned up the dataset by removing nulls. I also created dummy variables out of our boolean true-false classification of whether or not the batted ball type was a popup. Lastly, I removed the null observations, which earlier were listed as 123456789 (because the dataset had string \"null\" for null cells).\n"
   ]
  },
  {
   "cell_type": "code",
   "execution_count": null,
   "metadata": {
    "collapsed": false
   },
   "outputs": [],
   "source": [
    "## ask for batted ball type to analyze\n",
    "\n",
    "# bbtype = raw_input(\"\\nPlease choose which of the following batted ball types\"\n",
    "# \t\" to predict (ground_ball, line_drive, fly_ball, popup): \")\n",
    "\n",
    "\n",
    "## here i hard-wired popups, but could take any batted ball type\n",
    "\n",
    "bbtype = \"popup\"\n",
    "\n",
    "if bbtype not in ['ground_ball', 'line_drive', 'fly_ball', 'popup']:\n",
    "\tprint(\"Your input was incorrect. Please match the spelling of an\"\n",
    "\t\" option from the list. Shutting down...\")\n",
    "\texit()\n",
    "\n",
    "\n",
    "## count the amount of batted balls each pitcher has allowed in play\n",
    "\n",
    "data['count'] = data.groupby('player_name')['player_name'].transform('count')\n",
    "  \n",
    "    \n",
    "## create a dummy for each zone pitches were thrown in - removed for lack of impact on accuracy\n",
    "\n",
    "# data = pd.get_dummies(data, columns = ['zone'])\n",
    "\n",
    "    \n",
    "## for pitch analysis, use a copy of the data set\n",
    "\n",
    "indiv_pitches = data[data['count'] > 100]\n",
    "\n",
    "\n",
    "## select data where batted balls are popups, and set to 1 true and 0 false\n",
    "\n",
    "indiv_pitches['batted_ball'] = (indiv_pitches['bb_type'] == bbtype).astype(int)\n",
    "indiv_pitches['all_batted_ball'] = (indiv_pitches['bb_type'] != \"123456789\").astype(int)\n",
    "\n",
    "\n",
    "## gather pitch types used in this dataset\n",
    "\n",
    "pitch_types = indiv_pitches['pitch_type'].unique().astype(str)\n",
    "\n",
    "\n",
    "## remove all null, listed as string 123456789, and put into the regression dataset\n",
    "\n",
    "indiv_pitches_reg = indiv_pitches[(indiv_pitches != 123456789).all(1)]"
   ]
  },
  {
   "cell_type": "markdown",
   "metadata": {},
   "source": [
    "### Train the Model:\n",
    "\n",
    "Because a batted ball variable is boolean with respect to a batted ball type (i.e. it either is or isn't a popup), I chose to build a logistical regression model to calculate the odds a pitch would be a popup. In aggregate, I would be able to predict the popup rate of a set of pitches. \n",
    "\n",
    "I broke down my dataset into training and test sets, at random, with 80% train and 20% test. Given that the dataset is about 80,000 individual data points, I thought an 80-20 split would best train the model."
   ]
  },
  {
   "cell_type": "code",
   "execution_count": null,
   "metadata": {
    "collapsed": true
   },
   "outputs": [],
   "source": [
    "## randomly sort data into test and train sets and select data for regression\n",
    "\n",
    "rand = np.random.randn(len(indiv_pitches_reg)) < .8\n",
    "\n",
    "train = indiv_pitches_reg[rand]\n",
    "test = indiv_pitches_reg[~rand]\n",
    "\n",
    "reg_columns = ['release_speed', 'release_spin_rate', 'pfx_x', 'pfx_z']\n",
    "#               'zone_1', 'zone_2', 'zone_3', 'zone_4', 'zone_5', 'zone_6',\n",
    "#               'zone_7', 'zone_8', 'zone_9', 'zone_11', 'zone_12', \n",
    "#               'zone_13', 'zone_14']\n",
    "\n",
    "\n",
    "## logit regression - odds ratio into probability of popup\n",
    "\n",
    "logit = sm.Logit(train['batted_ball'], train[reg_columns])"
   ]
  },
  {
   "cell_type": "markdown",
   "metadata": {},
   "source": [
    "On rare occasion, python would round to 16 decimal places when building the model (specifically, when calculating the Hessian matrix) as opposed to the usual 17 decimal places. When this happens, the Hessian becomes singular. I decided to add a check in to tell the user when this happens and quit the program, as opposed ot having errors pop up related to singularity."
   ]
  },
  {
   "cell_type": "code",
   "execution_count": null,
   "metadata": {
    "collapsed": true
   },
   "outputs": [],
   "source": [
    "## python has rounding issues - sometimes rounds to 16 digits, sometimes 17\n",
    "## if 16, matrix becomes singular. if singular, this code tells user\n",
    "\n",
    "try:\t\t\t\t\t\t\t\t\t\t\t# try fitting with model\n",
    "\tresults = logit.fit(disp=0)\n",
    "except np.linalg.linalg.LinAlgError as err:\t\t# catch any error\n",
    "\tif 'Singular matrix' in err.message:\t\t# if singular error\n",
    "\t\tprint \"\\n\\nRounding error in Logit. Please try again.\\n\\n\"\n",
    "\t\texit()\t\t\t\t\t\t\t\t\t# print message and quit\n",
    "\telse:\t\t\t\t\t\t\t\t\t\t# if a different error occurs,\n",
    "\t\tprint \"Other error. Unknown.\"\t\t\t# state unknown error"
   ]
  },
  {
   "cell_type": "markdown",
   "metadata": {},
   "source": [
    "### Test the Model\n",
    "\n",
    "Overall, the model performs well on the aggregate - it predicts the sample's popup rate within a half-percentage point. The value in a model like this is in predicting individual pitcher popup rates, though, not the league's.\n",
    "\n",
    "*note: on rare occasion, the randomization leaves out certain pitch types. Rerunning the randomization code fixes this.*"
   ]
  },
  {
   "cell_type": "code",
   "execution_count": null,
   "metadata": {
    "collapsed": false
   },
   "outputs": [],
   "source": [
    "## predict on test set\n",
    "\n",
    "y_pred = results.predict(test[reg_columns])\n",
    "\n",
    "\n",
    "## use a dataframe to compare predictons to actual\n",
    "\n",
    "prediction = pd.DataFrame({ \"actual\" : test['batted_ball'], \n",
    "\t\"projected\" : y_pred})\n",
    "\n",
    "test_projected_rate = sum(prediction['projected'])/len(test) * 100\n",
    "test_actual_rate = sum(prediction['actual'])/len(test) * 100\n",
    "data_set_actual_rate = sum(indiv_pitches['batted_ball'])/sum(indiv_pitches[\n",
    "\t'all_batted_ball']) * 100\n",
    "\n",
    "print(\"\\nThe entire sample's actual popup rate: %.2f%%\\n\"\n",
    "\t\"The test set's actual popup rate: %.2f%%\\n\"\n",
    "\t\"The test set's projected popup rate: %.2f%%\\n\"\n",
    "\t\"\\nTotal pitches in data set: %i\\n\"\n",
    "\t\"\\nPitch types used in the model: %s\\n\\n\"\n",
    "\t% (data_set_actual_rate, test_actual_rate, test_projected_rate, len(indiv_pitches), pitch_types))\n"
   ]
  },
  {
   "cell_type": "markdown",
   "metadata": {},
   "source": [
    "Below are the regression results. Because I used a Logistic Regression, I have to convert the coefficients into the odds ratios to extract their impact on popup probabilities. As you see, horizontal movement has no statistically significant impact on popup rate, however vertical movement, velocity and spin rate do. Vertical movement increases the probability of a pitch being a popup by 124%.\n",
    "\n"
   ]
  },
  {
   "cell_type": "code",
   "execution_count": null,
   "metadata": {
    "collapsed": false
   },
   "outputs": [],
   "source": [
    "## results!! Odds ratio because Logit model needs deconstruction to interpret\n",
    "\n",
    "odds = pd.DataFrame({ \"Variable\" : results.params.index,\n",
    "                     \"Impact on Probability\" : (np.exp(results.params.values)-1) * 100,\n",
    "                    \"P-Value\" : results.pvalues})\n",
    "odds.set_index(\"Variable\", inplace = True)\n",
    "\n",
    "\n",
    "## print regression table and odds ratios\n",
    "\n",
    "print results.summary()\n",
    "print \"\\n\\n\", odds, \"\\n\""
   ]
  },
  {
   "cell_type": "markdown",
   "metadata": {},
   "source": [
    "## Popup Prediction - Pitchers\n",
    "\n",
    "To test my model, I decided to try to predict individual pitcher popup rates. I noticed that the model did extremely poorly at predicting individual pitch probabilities of being a popup, but it did well in predicting the popup rate of a larger sample. Below, I predict the popup rate and calculate the actual popup rate of every pitcher with 100 or more batted balls in our sample."
   ]
  },
  {
   "cell_type": "code",
   "execution_count": null,
   "metadata": {
    "collapsed": false
   },
   "outputs": [],
   "source": [
    "## create list of pitchers and an empty dataframe to store their rates\n",
    "\n",
    "pitchers = indiv_pitches['player_name'].unique()\n",
    "\n",
    "bip_df = pd.DataFrame([])\n",
    "\n",
    "\n",
    "## create a dataframe of pitcher names and amount of balls in play\n",
    "\n",
    "batted_balls = indiv_pitches_reg[['player_name','count']].drop_duplicates('player_name', keep='last')[['player_name', 'count']]\n",
    "\n",
    "\n",
    "## loop through each pitcher, clean the data and estimate bip_rate rates\n",
    "\n",
    "for pitcher in pitchers:\n",
    "\n",
    "    ## clean the data - find data for pitcher listed, replace the nulls as 123456789 and remove nulls\n",
    "    \n",
    "    df = indiv_pitches.loc[indiv_pitches['player_name'] == pitcher]\n",
    "    df = df.replace(to_replace = 'null', value = \"123456789\").apply(pd.to_numeric, errors = \"ignore\")\n",
    "    df = df[(df.bb_type != \"123456789\")]    \n",
    "    \n",
    "    \n",
    "    ## apply model and predict rate for each pitch\n",
    "    \n",
    "    df_predict = results.predict(df[reg_columns])\n",
    "    \n",
    "    \n",
    "    ## calculate projected and actual rates\n",
    "    \n",
    "    total = len(df)\n",
    "\n",
    "    projected_bip_rate = sum(df_predict)/total * 100\n",
    "    actual_bip_rate = sum(df['batted_ball'])/total * 100\n",
    "\n",
    "    \n",
    "    ## create dataframe of pitcher, actual and projected rates, \n",
    "    ## difference in rates and ball in play count\n",
    "    \n",
    "    bip_df = bip_df.append(pd.DataFrame({ 'Player' : pitcher,\n",
    "                        'Actual Rate' : round(actual_bip_rate, 2),\n",
    "                        'Projected Rate' : round(projected_bip_rate, 2),\n",
    "                        'Difference' : round((actual_bip_rate - projected_bip_rate), 2),\n",
    "                        'Balls in Play' : batted_balls['count'][batted_balls['player_name'] == pitcher]}))\n",
    "\n",
    "    \n",
    "## reorder dataframe of results and print a header of results\n",
    "\n",
    "bip_df = bip_df[['Player', 'Actual Rate', 'Projected Rate', 'Difference', 'Balls in Play']]\n",
    "print bip_df.head()\n",
    "    \n",
    "\n",
    "## plot the relationship between sample size and error in prediction\n",
    "\n",
    "plt.scatter(bip_df[\"Balls in Play\"], np.absolute(bip_df[\"Difference\"]))\n",
    "plt.xlabel('Balls in Play')\n",
    "plt.ylabel('Absolute Value of Error')\n",
    "plt.title('Sample Size versus Prediction Error on %s' % bbtype)\n",
    "\n",
    "\n",
    "## if batted ball type is fly ball, make note that baseball savant uses different classifications\n",
    "\n",
    "if bbtype == \"fly_ball\":\n",
    "\tprint(\"\\n\\nNote: this model classifies fly balls separately than popups,\"\n",
    "\t\" unlike most public websites.\\n\")"
   ]
  },
  {
   "cell_type": "markdown",
   "metadata": {},
   "source": [
    "As seen in both the heading sample and the plot of the data above, the model doesn't accurately predict pitcher popup rates, but increases in accuracy in absolute terms as the sample size increases."
   ]
  },
  {
   "cell_type": "markdown",
   "metadata": {},
   "source": [
    "## Problems & Issues:\n",
    "\n",
    "The model wasn't nearly as accurate as I had hoped it would be. Much of this is likely due to sample size issues, as there were no pitchers who yet had a sample size as large as the recommended minimum I calculate below (approximately 579 balls in play). Even then, though, this model heavily implies that batters contribute to pitcher popup rates. To better enhance this model, I would need to include batter characteristics, like bat angle, swing path and bat speed, to better predict popup rates.\n",
    "\n",
    "Below is a plot comparing projected and actual popup rate frequencies. Clearly, the model centralized in a similar locaiton but didn't have the same variance. After limiting the sample of pitchers who have allowed 400 or more balls in play, we can see that those who have a larger sample size have more accurate projections. A study I reference below, from MedCalc, suggests a certain calculation to find the suggested minimum sample size. That sample size for this model was 579 balls in play, which no pitcher has reached yet in 2017. I will revisit this after the 2017 season, and may consider including 2016 data as well to increase sample sizes."
   ]
  },
  {
   "cell_type": "code",
   "execution_count": null,
   "metadata": {
    "collapsed": false,
    "scrolled": true
   },
   "outputs": [],
   "source": [
    "## plot actual versus projected rate frequencies by value\n",
    "\n",
    "sns.kdeplot(bip_df['Actual Rate'], shade = True, label = \"Actual\")\n",
    "sns.kdeplot(bip_df['Projected Rate'], shade = True, label = \"Projected\")\n",
    "plt.title('Projected versus Actual %s' % bbtype)"
   ]
  },
  {
   "cell_type": "code",
   "execution_count": null,
   "metadata": {
    "collapsed": false
   },
   "outputs": [],
   "source": [
    "## Set ball in play count minimum, tell the user and then plot\n",
    "\n",
    "bip_size = 400\n",
    "bip_df_larger_sample = bip_df[bip_df['Balls in Play'] > bip_size]\n",
    "\n",
    "print(\"\\n\\nThere are %i pitchers with %i %s balls in play in our sample.\\n\\n\" % \n",
    "      (len(bip_df_larger_sample), bip_size, bbtype))\n",
    "\n",
    "\n",
    "## plot using the sample of pitchers with a minimum number of batted ball type we want\n",
    "\n",
    "sns.kdeplot(bip_df_larger_sample['Actual Rate'], shade = True, label = \"Actual\")\n",
    "sns.kdeplot(bip_df_larger_sample['Projected Rate'], shade = True, label = \"Projected\")\n",
    "plt.title('Projected versus Actual %s' % bbtype)"
   ]
  },
  {
   "cell_type": "code",
   "execution_count": null,
   "metadata": {
    "collapsed": false
   },
   "outputs": [],
   "source": [
    "## sample size recommendation:\n",
    "## MedCalc, \"Logistic Regression\", Accessed July 2017.\n",
    "## URL: https://www.medcalc.org/manual/logistic_regression.php\n",
    "\n",
    "## print recommended sample size\n",
    "\n",
    "bip_proportion = sum(test['batted_ball'])/len(test)\n",
    "\n",
    "print \"\\nRecommended Sample Size, as per MedCalc: \", int((10 * 4 / bip_proportion)), \"\\n\"\n"
   ]
  },
  {
   "cell_type": "markdown",
   "metadata": {
    "collapsed": true
   },
   "source": [
    "## Conclusion:\n",
    "\n",
    "I believe the goal of predicting batted ball types is feasible, given the right data. Clearly, the outcome of pitches is dependent on both pitchers and batters, and building a model based on statistics from only one of the two parties is incomplete. As baseball data continues to become available to the public, I will continue to explore it and revise the model. \n",
    "\n",
    "The most significant result of this project is that predicting popup rates for individual pitchers seems possible. The value in popup rate prediction is that popups are almost guaranteed outs and pitchers who should be producing more popups than they are may be undervalued in the marketplace of MLB pitchers.\n",
    "\n",
    "### Next Steps:\n",
    "\n",
    "- Find data on batter characteristics (i.e. bat angle, bat speed, etc.) to include in the model.\n",
    "- Explore this model further for other batted ball types."
   ]
  }
 ],
 "metadata": {
  "kernelspec": {
   "display_name": "Python 2",
   "language": "python",
   "name": "python2"
  },
  "language_info": {
   "codemirror_mode": {
    "name": "ipython",
    "version": 2
   },
   "file_extension": ".py",
   "mimetype": "text/x-python",
   "name": "python",
   "nbconvert_exporter": "python",
   "pygments_lexer": "ipython2",
   "version": "2.7.13"
  }
 },
 "nbformat": 4,
 "nbformat_minor": 2
}
