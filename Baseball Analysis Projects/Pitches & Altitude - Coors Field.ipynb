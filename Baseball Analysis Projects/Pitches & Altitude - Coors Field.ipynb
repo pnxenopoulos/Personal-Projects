{
 "cells": [
  {
   "cell_type": "markdown",
   "metadata": {},
   "source": [
    "*Tim Boudreau <br>\n",
    "tim.boudreau25@gmail.com* <br>\n",
    "https://github.com/timboudreau25/\n",
    "***"
   ]
  },
  {
   "cell_type": "markdown",
   "metadata": {},
   "source": [
    "# A Mile-High Impact on Baseball\n",
    "### The effects of Coors Field\n",
    "\n",
    "As a San Francisco Giants fan, I've spent quite a bit of time watching games in NL West ballparks. Anytime the Giants are in Colorado, I hear about the altitude and how it impacts the baseball. Using statistics and BaseballSavant data, I explored the impacts on pitch movement and batted balls from Coors Field. My hypothesis is that there is a significant and large influence on vertical pitch movement by the altitude."
   ]
  },
  {
   "cell_type": "code",
   "execution_count": 14,
   "metadata": {
    "collapsed": false
   },
   "outputs": [],
   "source": [
    "%matplotlib inline\n",
    "\n",
    "import pandas as pd\n",
    "import statsmodels.api as sm\n",
    "import seaborn as sns\n",
    "import matplotlib.pyplot as plt\n",
    "import numpy as np\n",
    "import sqlite3"
   ]
  },
  {
   "cell_type": "markdown",
   "metadata": {},
   "source": [
    "## Data Source:\n",
    "\n",
    "For this analysis, I used data from BaseballSavant (https://baseballsavant.mlb.com/about) and it's Statcast search tool. The data ranged from April 2017 through August 2017, for all players and pitches in the 2017 season through those dates."
   ]
  },
  {
   "cell_type": "markdown",
   "metadata": {},
   "source": [
    "## Data Acquisition:\n",
    "\n",
    "### Database Formation:\n",
    "\n",
    "Locally, I created the database separate from running my analysis, as the formation took a few minutes on my machine to run. Using a SQL database saved me quite a bit of time when I would run my analysis.\n",
    "\n",
    "Due to limitations on query sizes through BaseballSavant, I could only export approximately 30,000 pitches per query, or about a week's worth of data. Before I formed my local database, I merged each week's data."
   ]
  },
  {
   "cell_type": "code",
   "execution_count": 15,
   "metadata": {
    "collapsed": true
   },
   "outputs": [],
   "source": [
    "# ## current directory of data files\n",
    "\n",
    "# cd = \"/Data/\"     # change if needed\n",
    "\n",
    "\n",
    "# ## create empty dataframe\n",
    "\n",
    "# data = pd.DataFrame()\n",
    "\n",
    "\n",
    "# ## loop through each sheet and append the previous one\n",
    "\n",
    "# for count in range(1, 23):\n",
    "# \timport_data = pd.read_csv(cd + \"savant_\" \n",
    "# \t\t+ str(count) + \".csv\")\n",
    "# \tdata = data.append(import_data)\n",
    "\n",
    "    \n",
    "# ## set any cells that say 'null' to numeric 123456789, and convert numeric columns to numeric\n",
    "\n",
    "# data = data.replace(to_replace = 'null', value = \"123456789\").apply(pd.to_numeric, errors = \"ignore\")\n",
    "\n",
    "\n",
    "## create/connect to database\n",
    "\n",
    "path = 'Data/mlb_data.db'\n",
    "conn = sqlite3.connect(path)\n",
    "c = conn.cursor()\n",
    "\n",
    "\n",
    "# add dataframe to database\n",
    "\n",
    "# data.to_sql(\"MLB_2017\", conn, if_exists=\"replace\")"
   ]
  },
  {
   "cell_type": "markdown",
   "metadata": {},
   "source": [
    "### SQL Query Into Database:\n",
    "\n",
    "The variables of interest from my database were pitch characteristics and home team of the game each pitch was thrown in. The pitch characteristics I queried for are pitch type, release speed (in mph), release spin rate (in revolutions per minute), horizontal movement and vertical movement (both in inches). I used home team as a proxy for home field, as there has only been one series in which the home team wasn't in their home park: Houston during Hurricane Harvey."
   ]
  },
  {
   "cell_type": "code",
   "execution_count": 16,
   "metadata": {
    "collapsed": true
   },
   "outputs": [],
   "source": [
    "## query for our data - home team, pitch type, and pitch characteristics\n",
    "\n",
    "data = pd.read_sql(\"\"\"SELECT home_team, pitcher, batter, pitch_type, release_speed, \n",
    "\trelease_spin_rate, pfx_x, pfx_z, bb_type, plate_x, plate_z, \n",
    "\tlaunch_speed, launch_angle, hit_distance_sc\n",
    "\tFROM MLB_2017\n",
    "\t;\"\"\", conn)\n",
    "\n",
    "c.close()\t\t\t# close connection to db"
   ]
  },
  {
   "cell_type": "markdown",
   "metadata": {},
   "source": [
    "## Data Preparation:"
   ]
  },
  {
   "cell_type": "markdown",
   "metadata": {},
   "source": [
    "### Colorado Dummy:\n",
    "\n",
    "To prepare for my regression, I had to organize and filer the data. I chose to create a dummy variable for Colorado, as the home park (with home team as a proxy) is a mile above sea level, to analyze the effect of altitude on pitch movement. I did write code to ask the user what team and therefor park to consider, but Colorado is the main focus of this assignment."
   ]
  },
  {
   "cell_type": "code",
   "execution_count": 17,
   "metadata": {
    "collapsed": true
   },
   "outputs": [],
   "source": [
    "## ask for/define the home team, as proxy for home ballpark\n",
    "\n",
    "teams = sorted(data['home_team'].unique().astype(str))\n",
    "\n",
    "\n",
    "# ## ask for ballpark\n",
    "\n",
    "# home_team = raw_input(\"\\nPlease choose which of the following batted ball types\"\n",
    "# \t\" to predict (ground_ball, line_drive, fly_ball, popup): \")\n",
    "\n",
    "home_team = \"COL\"\t\t# here, look at Colorado and park effects\n",
    "\n",
    "\n",
    "## if input is not a team, clarify that error\n",
    "\n",
    "if home_team not in teams:\n",
    "\tprint(\"Your input was incorrect. Please match the spelling of an\"\n",
    "\t\" option from the following list.\\n\\n%s\\n\\nShutting down...\\n\\n\" % teams)\n",
    "\texit()\n",
    "\n",
    "\n",
    "## create 0, 1 integer for home park\n",
    "\n",
    "data['home'] = (data['home_team'] == home_team).astype(int)"
   ]
  },
  {
   "cell_type": "markdown",
   "metadata": {},
   "source": [
    "### Data Organization\n",
    "\n",
    "To more accurately analyze the effect of altitude, I created a subset to only include pitchers who have thrown in Colorado this season and a subset of batters who have batted in Colorado. I also created a list of pitches in this subset, to analyze the effect of altitude broken down by pitch type."
   ]
  },
  {
   "cell_type": "code",
   "execution_count": 18,
   "metadata": {
    "collapsed": true
   },
   "outputs": [],
   "source": [
    "## remove null, listed as integer 123456789\n",
    "\n",
    "data = data[(data != 123456789).all(1)]\n",
    "\n",
    "\n",
    "## find list of pitchers who have thrown in colorado and elsewhere\n",
    "\n",
    "names = data['pitcher'][data['home_team'] == home_team].unique()\n",
    "\n",
    "data_sp = data[data['pitcher'].isin(names)]\n",
    "\n",
    "\n",
    "## find list of batters who have hit in colorado and elsewhere\n",
    "\n",
    "names = data['batter'][data['home_team'] == home_team].unique()\n",
    "\n",
    "data_bat = data[data['batter'].isin(names)]\n",
    "\n",
    "\n",
    "## gather list of pitches thrown, to analyze individually\n",
    "\n",
    "pitches = data['pitch_type'].unique()\n",
    "\n",
    "\n",
    "## define pitch movements from query to regress against\n",
    "\n",
    "pitch_movement = ['pfx_x', 'pfx_z']"
   ]
  },
  {
   "cell_type": "markdown",
   "metadata": {},
   "source": [
    "## Pitch Analysis:\n",
    "\n",
    "To fully capture altitude's effect on pitches, I looped through each pitch type and both dimensions of pitch movement to have multiple unique regressions. I stored the coefficient on Colorado and it's p-values, to see the effects and significance levels.\n",
    "\n"
   ]
  },
  {
   "cell_type": "code",
   "execution_count": 19,
   "metadata": {
    "collapsed": false,
    "scrolled": true
   },
   "outputs": [
    {
     "name": "stdout",
     "output_type": "stream",
     "text": [
      "   dep_var  home coef  p_value pitch\n",
      "0    pfx_x   0.918187   0.0000    FT\n",
      "1    pfx_z  -0.116069   0.0000    FT\n",
      "2    pfx_x   0.305960   0.0000    FF\n",
      "3    pfx_z  -0.178694   0.0000    FF\n",
      "4    pfx_x   0.232219   0.0000    CU\n",
      "5    pfx_z   0.213968   0.0000    CU\n",
      "6    pfx_x   0.549040   0.0000    CH\n",
      "7    pfx_z   0.034984   0.1495    CH\n",
      "8    pfx_x   0.186175   0.0000    SL\n",
      "9    pfx_z  -0.005744   0.7103    SL\n",
      "10   pfx_x   0.604652   0.0000    SI\n",
      "11   pfx_z  -0.115221   0.0000    SI\n",
      "12   pfx_x  -0.017107   0.4263    FC\n",
      "13   pfx_z  -0.067381   0.0126    FC\n",
      "14   pfx_x   0.271659   0.1804    FS\n",
      "15   pfx_z   0.230278   0.0382    FS\n",
      "16   pfx_x   0.241194   0.0021    KC\n",
      "17   pfx_z   0.256224   0.0002    KC\n"
     ]
    }
   ],
   "source": [
    "## regress pitch characteristics on other characteristics and the above-park\n",
    "\n",
    "home_coef = pd.DataFrame([])\t\t# store values from regression loop\n",
    "\n",
    "for pitch in pitches:\n",
    "\n",
    "\n",
    "    data_reg = data_sp[['pitch_type', 'release_speed', 'release_spin_rate', \n",
    "                     'pfx_x', 'pfx_z', 'home']]\n",
    "    \n",
    "    data_reg = data_reg[data_reg['pitch_type'] == pitch]\n",
    "\n",
    "    data_reg = data_reg.drop('pitch_type', axis = 1)\n",
    "\n",
    "\n",
    "    for reg in pitch_movement:\n",
    "\n",
    "        # print(\"\\n##################\\n%s\\n##################\" % reg)\n",
    "\n",
    "        Y = data_reg[reg]\n",
    "        X = data_reg.loc[:, data_reg.columns != reg]\n",
    "\n",
    "        X = sm.add_constant(X)\n",
    "\n",
    "        # corr = np.corrcoef(X)\n",
    "        # print X\n",
    "\n",
    "        results = sm.OLS(Y, X).fit()\n",
    "\n",
    "        # print results.summary()\n",
    "\n",
    "        # print results.params\n",
    "\n",
    "        # if reg == \"pfx_z\":\n",
    "        home_coef = home_coef.append(pd.DataFrame({ 'home coef' : results.params[4],\n",
    "            'dep_var' : reg, 'p_value' : round(results.pvalues[4], 4),\n",
    "            'pitch' : pitch}, index = [0]), ignore_index = True)\n",
    "\n",
    "# home_coef = home_coef.sort_values(['dep_var', 'pitch'], ascending = True)\n",
    "        \n",
    "print home_coef"
   ]
  },
  {
   "cell_type": "markdown",
   "metadata": {},
   "source": [
    "### Pitch Results:\n",
    "\n",
    "No pitch was significantly effected by altitude by an inch or more. I found this to be suspicious - further thought and exploration is needed.\n",
    "\n",
    "Sinkers, changeups, four seam fastballs, sliders, two seam fastballs and cutters all had statistically significant impacts (to the 99% confidence level) on both horizontal and vertical movement. Curveballs and knuckle curves had no significant impact on movement, which was also suspicious.\n",
    "Splitters had statistically significant horizontal movement effects, at the 90% confidence level.\n",
    "\n",
    "All statistically significant effects by altitude on movement were in the same directions - glove-side for horizontal movement and downward for vertical movement."
   ]
  },
  {
   "cell_type": "markdown",
   "metadata": {},
   "source": [
    "## Batting Analysis:\n",
    "\n",
    "My batting analysis is more exploratory than predictive, to validate my skepticism of the results of my pitching analysis. I decided to analyze batted ball characteristics, namely launch speed, launch angle and batted ball distribution."
   ]
  },
  {
   "cell_type": "code",
   "execution_count": 20,
   "metadata": {
    "collapsed": false
   },
   "outputs": [
    {
     "data": {
      "image/png": "[encoded data removed]",
      "text/plain": [
       "<matplotlib.figure.Figure at 0x11a58f0d0>"
      ]
     },
     "metadata": {},
     "output_type": "display_data"
    }
   ],
   "source": [
    "## plot frequency plots for exit velocity in Colorado and everywhere else\n",
    "\n",
    "sns.kdeplot(data_bat['launch_speed'][data_bat['home'] == 1], shade = True, label = \"Colorado\")\n",
    "sns.kdeplot(data_bat['launch_speed'][data_bat['home'] != 1], shade = True, label = \"Not Colorado\")\n",
    "plt.legend()\n",
    "plt.title(\"Launch Speed, Colorado & Elsewhere\")\n",
    "plt.show()"
   ]
  },
  {
   "cell_type": "markdown",
   "metadata": {},
   "source": [
    "As seen above, the shape of exit velocity distributions are similar both in Colorado and out. In Colorado, however, There are fewer balls hit around 70-80 mph and more hit between about 85-95 mph. As exit velocity is measured off the bat, this would have to be influenced by changes in pitch characteristics - or batters swinging differently."
   ]
  },
  {
   "cell_type": "code",
   "execution_count": 21,
   "metadata": {
    "collapsed": false
   },
   "outputs": [
    {
     "data": {
      "text/plain": [
       "<matplotlib.text.Text at 0x12431b590>"
      ]
     },
     "execution_count": 21,
     "metadata": {},
     "output_type": "execute_result"
    },
    {
     "data": {
      "image/png": "[encoded data removed]",
      "text/plain": [
       "<matplotlib.figure.Figure at 0x1221408d0>"
      ]
     },
     "metadata": {},
     "output_type": "display_data"
    }
   ],
   "source": [
    "## plot frequency plots for launch angle in Colorado and everywhere else\n",
    "\n",
    "sns.kdeplot(data_bat['launch_angle'][data_bat['home'] == 1], shade = True, label = \"Colorado\")\n",
    "sns.kdeplot(data_bat['launch_angle'][data_bat['home'] != 1], shade = True, label = \"Not Colorado\")\n",
    "plt.legend()\n",
    "plt.title(\"Launch Angle, Colorado & Elsewhere\")"
   ]
  },
  {
   "cell_type": "markdown",
   "metadata": {},
   "source": [
    "The launch angle distributions for in Colorado and outside Colorado are similar, as before. However, batters in Colorado hit more ground balls (in the -70 to -20 degree launch angle zone) and fewer fly balls (in the 5 to 40 degree launch angle zone). This is likely due to changes in pitch selection or zones pitched to by pitchers, but could also be a failed attempt by batters to elevate the ball more at altitude."
   ]
  },
  {
   "cell_type": "code",
   "execution_count": 22,
   "metadata": {
    "collapsed": false
   },
   "outputs": [
    {
     "data": {
      "text/plain": [
       "<matplotlib.text.Text at 0x121c5e190>"
      ]
     },
     "execution_count": 22,
     "metadata": {},
     "output_type": "execute_result"
    },
    {
     "data": {
      "image/png": "[encoded data removed]",
      "text/plain": [
       "<matplotlib.figure.Figure at 0x1192e9310>"
      ]
     },
     "metadata": {},
     "output_type": "display_data"
    }
   ],
   "source": [
    "## Gather pitch type data and format the data properly\n",
    "\n",
    "pitch_list = pd.crosstab(data_sp.pitch_type, data_sp.home)\n",
    "pitch_list.columns = [\"Not Colorado\", \"Colorado\"]\n",
    "\n",
    "pitch_dist = pitch_list\n",
    "pitch_dist = pitch_dist.drop(['Colorado', 'Not Colorado'], axis = 1)\n",
    "\n",
    "\n",
    "## find the percentage of pitches that each pitch type is and format the data\n",
    "\n",
    "pitch_dist['Colorado'] = pitch_list['Colorado'] / sum(pitch_list['Colorado'])\n",
    "pitch_dist['Not Colorado'] = pitch_list['Not Colorado'] / sum(pitch_list['Not Colorado'])\n",
    "pitch_dist['Pitch Type'] = pitch_dist.index\n",
    "\n",
    "pitch_dist_plot = pd.melt(pitch_dist, id_vars=\"Pitch Type\", var_name = \"Location\"\n",
    "\t, value_name = \"Frequency\")\n",
    "\n",
    "\n",
    "## plot!\n",
    "\n",
    "sns.factorplot(x = 'Pitch Type', y = 'Frequency', hue = 'Location', \n",
    "\tdata = pitch_dist_plot, kind = 'bar')\n",
    "\n",
    "plt.title(\"Pitch Breakdown, Colorado & Not Colorado\")"
   ]
  },
  {
   "cell_type": "markdown",
   "metadata": {},
   "source": [
    "There are two things I constantly hear about pitching in Colorado: one, breaking balls are aversly affected by altitude and two, use fastballs because of number one. These points both can be seen here, with a large increase in four seam usage and decreases in many breaking pitches, such as curves and breaking fastballs. "
   ]
  },
  {
   "cell_type": "code",
   "execution_count": null,
   "metadata": {
    "collapsed": false
   },
   "outputs": [
    {
     "name": "stdout",
     "output_type": "stream",
     "text": [
      "  Batted Ball Type      Location  Frequency\n",
      "0         fly_ball      Colorado   0.219968\n",
      "1      ground_ball      Colorado   0.468463\n",
      "2       line_drive      Colorado   0.281458\n",
      "3            popup      Colorado   0.030111\n",
      "4         fly_ball  Not Colorado   0.245695\n",
      "5      ground_ball  Not Colorado   0.424341\n",
      "6       line_drive  Not Colorado   0.279687\n",
      "7            popup  Not Colorado   0.050277\n"
     ]
    },
    {
     "data": {
      "text/plain": [
       "<matplotlib.legend.Legend at 0x11a860f10>"
      ]
     },
     "execution_count": 23,
     "metadata": {},
     "output_type": "execute_result"
    },
    {
     "data": {
      "image/png": "[encoded data removed]",
      "text/plain": [
       "<matplotlib.figure.Figure at 0x11a860390>"
      ]
     },
     "metadata": {},
     "output_type": "display_data"
    }
   ],
   "source": [
    "## remove all null string data in batted balls (earlier listed as 123456789)\n",
    "\n",
    "data_bat = data_bat[data_bat['bb_type'] != \"123456789\"]\n",
    "\n",
    "\n",
    "## Gather batted ball data and format the data properly\n",
    "\n",
    "batted_balls = pd.crosstab(data_bat.bb_type, data_bat.home)\n",
    "batted_balls.columns = ['Not Colorado', 'Colorado']\n",
    "\n",
    "batted_balls_dist = batted_balls\n",
    "batted_balls_dist = batted_balls_dist.drop(['Colorado', 'Not Colorado'], axis = 1)\n",
    "\n",
    "\n",
    "## find the percentage of batted balls that each batted ball type is and format the data\n",
    "\n",
    "batted_balls_dist['Colorado'] = batted_balls['Colorado'] / sum(batted_balls['Colorado'])\n",
    "batted_balls_dist['Not Colorado'] = batted_balls['Not Colorado'] / sum(batted_balls['Not Colorado'])\n",
    "batted_balls_dist['Batted Ball Type'] = batted_balls_dist.index\n",
    "\n",
    "batted_balls_plot = pd.melt(batted_balls_dist, id_vars=\"Batted Ball Type\", var_name = \"Location\"\n",
    "\t, value_name = \"Frequency\")\n",
    "\n",
    "print batted_balls_plot\n",
    "\n",
    "## plot!\n",
    "\n",
    "sns.factorplot(x = 'Batted Ball Type', y = 'Frequency', hue = 'Location', \n",
    "\tdata = batted_balls_plot, kind = 'bar', legend = False)\n",
    "\n",
    "plt.title(\"Batted Ball Breakdown, Colorado & Not Colorado\")\n",
    "plt.legend(loc = 'upper right')"
   ]
  },
  {
   "cell_type": "markdown",
   "metadata": {},
   "source": [
    "Whether a result of the changed pitch distribution, pitch location or batter approach, there is a noticable change in the batted ball distribution in Colorado versus elsewhere. There are fewer fly balls and pop ups and, to offset that, an increased amount of fly balls. There isn't much change in line drive rates, which is expected, as it is generally accepted that line drives, from a pitcher's perspective, appear as random occurances and aren't controllable."
   ]
  },
  {
   "cell_type": "code",
   "execution_count": null,
   "metadata": {
    "collapsed": false
   },
   "outputs": [],
   "source": [
    "## clear any null data (previously converted into 123456789 integers)\n",
    "\n",
    "data_zone = data[data['plate_x'] != 123456789][data['plate_z'] != 123456789]\n",
    "\n",
    "\n",
    "## prepare a plot with subplots\n",
    "\n",
    "sns.set(style=\"darkgrid\")\n",
    "f, (ax1, ax2) = plt.subplots(1, 2, sharex = True, sharey = True)\n",
    "f.suptitle(\"Pitch Heat Maps, Pitcher's View\")\n",
    "plt.xlim(-1.5, 1.5)\n",
    "plt.ylim(1, 4)\n",
    "\n",
    "\n",
    "## plot pitch locations in heatmaps for in Colorado and elsewhere\n",
    "\n",
    "ax1.set_title(\"Not Colorado\")\n",
    "sns.kdeplot(data_zone['plate_x'][data['home'] != 1], data_zone['plate_z'][data['home'] != 1], \n",
    "            cmap = \"Reds\", shade = True, shade_lowest = False, ax = ax1)\n",
    "\n",
    "ax2.set_title(\"Colorado\")\n",
    "sns.kdeplot(data_zone['plate_x'][data['home'] == 1], data_zone['plate_z'][data['home'] == 1], \n",
    "            cmap = \"Blues\", shade = True, shade_lowest = False, ax = ax2)"
   ]
  },
  {
   "cell_type": "markdown",
   "metadata": {},
   "source": [
    "These heat maps of pitch locations are from the catcher's view, with (0, 2.5 feet) as the center of the plate. They may take a minute or two to load.\n",
    "\n",
    "Pitchers in Colorado seems to favor two locations, neither of which is where the rest of the league dominantl pitches. The first is over the left side of the plate, which is away from lefties and inside to righties. The second is up and in to lefties. My theory as to why these are the focal points of pitch locating in Colorad is that right field is where batted balls could cause the most damage, as the Rockies heightened the right-center field wall. Pitchers are trying to either have the ball hit to left field or weakly to right field. In another analysis, I may revist this idea and explore where in certain ballparks batted balls are most damaging. "
   ]
  },
  {
   "cell_type": "markdown",
   "metadata": {
    "collapsed": true
   },
   "source": [
    "## Problems & Issues\n",
    "\n",
    "One problem I had was the result of what I assume to be incomplete modeling. I expected and still assume that altitude has a larger impact on pitches, specificaly breaking pitches, than what my model suggests. To fix this, I would need to search for different variables in this or other datasets, while considering different models as well, as the issue could be the model itself. \n",
    "\n",
    "Another problem I encountered was multicollinearity within my model. Many of the regressions ran had multicollinearity issues. Below is my calculation for the condition number of this model. A condition number of a function or model describes how much the dependent variable can change with a small change in the independent variables - a larger condition number implies an error in input variable measure will greatly increase the error in output variable. The condition number is extremely large, which heavily implies multicollinearity is an issue. It may be best to accept there is multicollinearity, likely through an instrumental variable I failed to account for. I will try to revisit this another day.\n",
    "\n",
    "An issue I had with this project was, in my opinion, the lack of structure in my plan to attack my hypothesis. There is enough data to make one's head spin! I chose to browse what I deemed were interesting or important details, but felt I left many out while at the same time not having a flow between pieces."
   ]
  },
  {
   "cell_type": "code",
   "execution_count": null,
   "metadata": {
    "collapsed": false
   },
   "outputs": [],
   "source": [
    "## source for this code: http://www.statsmodels.org/dev/examples/notebooks/generated/ols.html\n",
    "\n",
    "## \n",
    "norm_x = X.values\n",
    "for i, name in enumerate(X):\n",
    "    if name == \"const\":            ## skip the constant from the model\n",
    "        continue\n",
    "    norm_x[:,i] = X[name]/np.linalg.norm(X[name])    ## normalize values\n",
    "norm_xtx = np.dot(norm_x.T,norm_x)\n",
    "\n",
    "eigs = np.linalg.eigvals(norm_xtx)                   ## collect eigenvalues from normalized data\n",
    "condition_number = np.sqrt(eigs.max() / eigs.min())  ## calculate condition number\n",
    "\n",
    "print \"\\nCondition number: \", (condition_number)"
   ]
  },
  {
   "cell_type": "markdown",
   "metadata": {
    "collapsed": true
   },
   "source": [
    "## Conclusion\n",
    "\n",
    "Altitude significantly affects pitches. This has been known by players, coaches and fans since Colorado received a Major League team. Batters hit the ball harder and higher (as well as lower) than elsewhere, likely to try to take advantage of the thinner atmosphere and further carry. Pitchers recognize these conditions and throw different pitches, in different locations, to prevent this. The distribution of batted balls in Colorado, compared to other stadiums, reflects this - there is a decrease in fly balls and increase in ground balls despite batters hitting the ball harder and likely trying to lift the ball. With strike-zone data, such as bat path and speed, I could explore that further.\n",
    "\n",
    "I was able to somewhat verify my hypothesis - many pitch types have a significant impact on vertical movement by altitude. Surprisingly, though, my model suggested altitude doesn't impact the most drastic breaking pitches, curveballs. I'm skeptical of these results, and need to further explore this.\n",
    "\n",
    "### Next Steps:\n",
    "\n",
    "- Work on my model to better accurately analyze the data.\n",
    "- Gather more data to include in the model that could be missing and impacting my results.\n",
    "- Search for data on bat angle and speed to statistically see if there is a change in approach by batters, or batters of certain types."
   ]
  }
 ],
 "metadata": {
  "kernelspec": {
   "display_name": "Python 2",
   "language": "python",
   "name": "python2"
  },
  "language_info": {
   "codemirror_mode": {
    "name": "ipython",
    "version": 2
   },
   "file_extension": ".py",
   "mimetype": "text/x-python",
   "name": "python",
   "nbconvert_exporter": "python",
   "pygments_lexer": "ipython2",
   "version": "2.7.13"
  }
 },
 "nbformat": 4,
 "nbformat_minor": 2
}
