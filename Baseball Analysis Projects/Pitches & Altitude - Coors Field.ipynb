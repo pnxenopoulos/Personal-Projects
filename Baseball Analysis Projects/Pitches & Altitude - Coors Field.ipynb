{
 "cells": [
  {
   "cell_type": "markdown",
   "metadata": {},
   "source": [
    "*Tim Boudreau <br>\n",
    "tim.boudreau25@gmail.com* <br>\n",
    "https://firstpitchswinging.wordpress.com/ <br>\n",
    "https://github.com/timboudreau25/\n",
    "***"
   ]
  },
  {
   "cell_type": "markdown",
   "metadata": {},
   "source": [
    "# A Mile-High Impact on Baseball\n",
    "\n",
    "*note: descriptions of some statistics were aided by Tangotiger (http://www.tangotiger.com/index.php)*\n",
    "\n",
    "### The effects of Coors Field\n",
    "\n",
    "As a resident of California, I've spent quite a bit of time watching games in NL West ballparks. Anytime the local team is in Colorado, I hear about the altitude and how it impacts the baseball. Using statistics and BaseballSavant data, I explored the impacts on pitch movement and batted balls from Coors Field. My hypothesis is that there is a significant and large influence on vertical pitch movement by the altitude, impacting pitch usage by pitchers."
   ]
  },
  {
   "cell_type": "code",
   "execution_count": 1,
   "metadata": {},
   "outputs": [
    {
     "name": "stderr",
     "output_type": "stream",
     "text": [
      "/Users/timb/anaconda2/lib/python2.7/site-packages/statsmodels/compat/pandas.py:56: FutureWarning: The pandas.core.datetools module is deprecated and will be removed in a future version. Please use the pandas.tseries module instead.\n",
      "  from pandas.core import datetools\n"
     ]
    }
   ],
   "source": [
    "%matplotlib inline\n",
    "\n",
    "import pandas as pd\n",
    "import statsmodels.api as sm\n",
    "import seaborn as sns\n",
    "import matplotlib.pyplot as plt\n",
    "import numpy as np\n",
    "import sqlite3\n",
    "import os\n",
    "from tabulate import tabulate\n",
    "import re"
   ]
  },
  {
   "cell_type": "markdown",
   "metadata": {},
   "source": [
    "## Data Source:\n",
    "\n",
    "For this analysis, I used data from BaseballSavant (https://baseballsavant.mlb.com/about) and it's Statcast search tool. The data is from the entire 2017 MLB regular season."
   ]
  },
  {
   "cell_type": "markdown",
   "metadata": {},
   "source": [
    "## Data Acquisition:\n",
    "\n",
    "### Database Formation:\n",
    "\n",
    "Locally, I created the database separate from running my analysis, as the formation took a few minutes on my machine to run. Using a SQL database saved me quite a bit of time when I would run my analysis."
   ]
  },
  {
   "cell_type": "code",
   "execution_count": 2,
   "metadata": {
    "collapsed": true
   },
   "outputs": [],
   "source": [
    "## create/connect to database\n",
    "\n",
    "path = \"Data/mlb_data.db\"\n",
    "conn = sqlite3.connect(path)\n",
    "c = conn.cursor()"
   ]
  },
  {
   "cell_type": "markdown",
   "metadata": {},
   "source": [
    "### SQL Query Into Database:\n",
    "\n",
    "The variables of interest from my database were pitch characteristics and home team of the game each pitch was thrown in. The pitch characteristics I queried for are pitch type, release speed (in mph), release spin rate (in revolutions per minute), horizontal movement and vertical movement (both in inches). I used home team as a proxy for home field, as there has only been one series in which the home team wasn't in their home park: Houston during Hurricane Harvey."
   ]
  },
  {
   "cell_type": "code",
   "execution_count": 3,
   "metadata": {
    "collapsed": true
   },
   "outputs": [],
   "source": [
    "## queries for our data\n",
    "\n",
    "data = pd.read_sql(\"\"\"SELECT home_team, pitch_type, release_speed, \n",
    " \trelease_spin_rate, pfx_x, pfx_z, ID_Key.mlb_name, plate_x, plate_z, p_throws\n",
    "    FROM MLB_2017\n",
    "    JOIN ID_Key ON ID_Key.mlb_id = MLB_2017.pitcher\n",
    "    WHERE pitch_type NOT IN ('FO', 'PO', 'EP', 'UN', 'AB')\n",
    " \t;\"\"\", conn).dropna()\n",
    "\n",
    "\n",
    "data_bats = pd.read_sql(\"\"\"SELECT home_team, pitch_type, release_speed, \n",
    " \trelease_spin_rate, pfx_x, pfx_z, ID_Key.mlb_name\n",
    "    , bb_type, plate_x, plate_z, \n",
    "     launch_speed, launch_angle, hit_distance_sc\n",
    "     FROM MLB_2017\n",
    "    JOIN ID_Key ON ID_Key.mlb_id = MLB_2017.pitcher\n",
    " \t;\"\"\", conn).dropna()\n",
    "\n",
    "c.close()\t\t\t# close connection to db"
   ]
  },
  {
   "cell_type": "markdown",
   "metadata": {},
   "source": [
    "## Data Preparation:\n",
    "\n",
    "Statcast measures pitch movement in feet from release, when prior measurements (and traditional describing of those measures) were in inches and at 40 feet from home plate. To correct this, Tangotiger recommended using a 1.67x normalization factor to compensate for the different measurement location (http://tangotiger.com/index.php/site/statcast-break-on-pitches).\n",
    "\n",
    "For this analysis, I am presenting pitch movement in inches as if it were measured from 40 feet in front of home plate."
   ]
  },
  {
   "cell_type": "code",
   "execution_count": 4,
   "metadata": {
    "collapsed": true
   },
   "outputs": [],
   "source": [
    "## correct the pitch movement for measurement location\n",
    "\n",
    "data['pfx_x'] = data['pfx_x'] * 12 / 1.67\n",
    "data['pfx_z'] = data['pfx_z'] * 12 / 1.67"
   ]
  },
  {
   "cell_type": "markdown",
   "metadata": {},
   "source": [
    "Beyond correcting pitch movement, I also created dummy variables for each ballpark. This controlled for individual ballpark effects on pitch movement (which could be from varying altitudes, proximities to bodies of water, discrepencies in measurement tools, etc.). Then I filtered the dataset to only include pitchers who pitched in both Colorado and elsewhere. This allows for a stronger analysis, comparing those pitches in and out of Colorado. Lastly, I normalized horizontal pitch movement by pitcher handedness - previously, glove-side break for a righty was positive movement, while glove-side break to a lefty was negative. Now, any glove-side movement is negative, allowing arm-side run to be positive. This allows us to analyze changes in movement based purely on the pitch thrown, not pitch thrown plus hand of pitcher throwing."
   ]
  },
  {
   "cell_type": "code",
   "execution_count": 5,
   "metadata": {
    "scrolled": true
   },
   "outputs": [
    {
     "name": "stderr",
     "output_type": "stream",
     "text": [
      "/Users/timb/anaconda2/lib/python2.7/site-packages/pandas/core/indexing.py:537: SettingWithCopyWarning: \n",
      "A value is trying to be set on a copy of a slice from a DataFrame.\n",
      "Try using .loc[row_indexer,col_indexer] = value instead\n",
      "\n",
      "See the caveats in the documentation: http://pandas.pydata.org/pandas-docs/stable/indexing.html#indexing-view-versus-copy\n",
      "  self.obj[item] = s\n"
     ]
    }
   ],
   "source": [
    "## find list of pitchers who have thrown/batted in both colorado and elsewhere\n",
    "\n",
    "home_team = \"COL\"\n",
    "\n",
    "names = data['mlb_name'][data['home_team'] == home_team].unique()\n",
    "names_bat = data_bats['mlb_name'][data_bats['home_team'] == home_team].unique()\n",
    "\n",
    "\n",
    "## create dummies for each home park to control for parks\n",
    "\n",
    "data = pd.concat([data, pd.get_dummies(data['home_team'], prefix = 'park')], axis = 1)\n",
    "data = data.drop('park_SF', axis = 1) # remove one of the dummies to properly use them\n",
    "\n",
    "\n",
    "## prepare batted ball data with a dummy for whether or not in Colorado\n",
    "\n",
    "data_bats['col'] = (data_bats['home_team'] == \"COL\").astype(int)\n",
    "\n",
    "\n",
    "## narrow our regression dataset down to pitchers who have thrown/hit in Colorado\n",
    "\n",
    "data_sp = data[data['mlb_name'].isin(names)]\n",
    "data_bats = data_bats[data_bats['mlb_name'].isin(names)]\n",
    "\n",
    "\n",
    "## define pitch movements from query to regress against\n",
    "\n",
    "pitch_movement = ['pfx_x', 'pfx_z']\n",
    "\n",
    "\n",
    "## gather list of pitches thrown, to analyze individually\n",
    "\n",
    "pitches = data_sp['pitch_type'].unique()\n",
    "\n",
    "\n",
    "## normalize horizontal movement for handedness of pitcher - positive is arm-side movement\n",
    "\n",
    "data_sp.loc[data_sp['p_throws'] == \"R\", ['pfx_x']] *= -1\n",
    "\n",
    "\n",
    "## remove home team, as the dummy variables control for that\n",
    "\n",
    "del data_sp['home_team']\n",
    "del data_sp['mlb_name']\n",
    "del data_sp['p_throws']"
   ]
  },
  {
   "cell_type": "markdown",
   "metadata": {},
   "source": [
    "## Pitch Analysis:\n",
    "\n",
    "To fully capture altitude's effect on pitches, I looped through each pitch type and both dimensions of pitch movement to have multiple unique regressions. I stored the coefficient on Colorado and it's p-values, to see the effects and significance levels.\n",
    "\n"
   ]
  },
  {
   "cell_type": "code",
   "execution_count": 6,
   "metadata": {
    "scrolled": false
   },
   "outputs": [
    {
     "name": "stdout",
     "output_type": "stream",
     "text": [
      "+---------+---------------+-----------+---------------+------------+\n",
      "| Pitch   |   Coors V-Mov |   P-Value |   Coors H-Mov |   P-Value  |\n",
      "|---------+---------------+-----------+---------------+------------|\n",
      "| SL      |      0.398564 |    0      |    -1.4768    |          0 |\n",
      "| FC      |      0.570576 |    0      |    -2.34079   |          0 |\n",
      "| FF      |     -2.02122  |    0      |    -1.94771   |          0 |\n",
      "| SI      |     -1.55     |    0.0002 |    -0.18329   |          0 |\n",
      "| FT      |     -2.55026  |    0      |    -2.29692   |          0 |\n",
      "| CH      |     -2.7788   |    0      |    -0.989404  |          0 |\n",
      "| KC      |      0.551338 |    0.0407 |     0.135777  |          0 |\n",
      "| CU      |      1.777    |    0      |    -0.0598116 |          0 |\n",
      "| FS      |     -1.0592   |    0.0002 |    -1.0296    |          0 |\n",
      "+---------+---------------+-----------+---------------+------------+\n"
     ]
    }
   ],
   "source": [
    "## regress pitch characteristics on other characteristics and the above-park\n",
    "\n",
    "home_coef = pd.DataFrame([])\t\t# stores values from regression loop\n",
    "\n",
    "\n",
    "for pitch in pitches:     # look at each pitch type\n",
    "    \n",
    "    \n",
    "    ## select data to regress - for each pitch type, and exclude variables not needed\n",
    "    \n",
    "    data_reg = data_sp[data_sp['pitch_type'] == pitch]\n",
    "    data_reg = data_reg.drop(['pitch_type', 'plate_x', 'plate_z'], axis = 1)\n",
    "\n",
    "\n",
    "    ## for both types of movement, regress park and pitch characteristics                          \n",
    "                              \n",
    "    for reg in pitch_movement:\n",
    "\n",
    "        Y = data_reg[reg]\n",
    "        X = data_reg.loc[:, data_reg.columns != reg]\n",
    "                \n",
    "        X = sm.add_constant(X)     # add constant\n",
    "\n",
    "        results = sm.OLS(Y, X).fit()     # OLS regression\n",
    "        \n",
    "                    \n",
    "        ## store values from regression                      \n",
    "                              \n",
    "        home_coef = home_coef.append(pd.DataFrame({ 'Colorado' : results.params['park_COL'],\n",
    "            'Movement' : reg, 'P-Value' : round(results.pvalues[4], 4),\n",
    "            'Pitch' : pitch}, index = [0]), ignore_index = True)\n",
    "\n",
    "\n",
    "## reorder columns and print regression results in a nice table format\n",
    "\n",
    "colorado_results = pd.DataFrame({\"Pitch\" : home_coef['Pitch'].unique(),\n",
    "            \"Coors V-Mov\" : home_coef[home_coef['Movement'] == \"pfx_x\"]['Colorado'].values,\n",
    "            \"Coors H-Mov\" : home_coef[home_coef['Movement'] == \"pfx_z\"]['Colorado'].values,\n",
    "            \"P-Value\" : home_coef[home_coef['Movement'] == 'pfx_x']['P-Value'].values,\n",
    "            \"P-Value \" : home_coef[home_coef['Movement'] == 'pfx_z']['P-Value'].values})\n",
    "\n",
    "colorado_results = colorado_results[['Pitch', 'Coors V-Mov', 'P-Value',\n",
    "                                     'Coors H-Mov', 'P-Value ']]\n",
    "\n",
    "\n",
    "\n",
    "print tabulate(colorado_results.values, headers = colorado_results.columns, tablefmt = 'psql')"
   ]
  },
  {
   "cell_type": "markdown",
   "metadata": {},
   "source": [
    "### Regression Results:\n",
    "\n",
    "\n",
    "Sliders:\n",
    "<br>&nbsp;&nbsp;&nbsp;&nbsp;&nbsp;&nbsp;- Almost a half-inchs less glove-side break\n",
    "<br>&nbsp;&nbsp;&nbsp;&nbsp;&nbsp;&nbsp;- Approximately 1 and a half inches more drop\n",
    "<br>&nbsp;&nbsp;&nbsp;&nbsp;&nbsp;&nbsp;- Both at 99% confidence level\n",
    "\n",
    "Cutters:\n",
    "<br>&nbsp;&nbsp;&nbsp;&nbsp;&nbsp;&nbsp;- A little more than a half inch less cut\n",
    "<br>&nbsp;&nbsp;&nbsp;&nbsp;&nbsp;&nbsp;- Just under 2 and a half inches more drop\n",
    "<br>&nbsp;&nbsp;&nbsp;&nbsp;&nbsp;&nbsp;- Both at the 99% confidence level\n",
    "\n",
    "Four-seam fastballs:\n",
    "<br>&nbsp;&nbsp;&nbsp;&nbsp;&nbsp;&nbsp;- 2 inches less run\n",
    "<br>&nbsp;&nbsp;&nbsp;&nbsp;&nbsp;&nbsp;- 2 inches less rise\n",
    "<br>&nbsp;&nbsp;&nbsp;&nbsp;&nbsp;&nbsp;- Both at the 99% confidence level\n",
    "\n",
    "Sinkers:\n",
    "<br>&nbsp;&nbsp;&nbsp;&nbsp;&nbsp;&nbsp;- 1 and a half inches less run\n",
    "<br>&nbsp;&nbsp;&nbsp;&nbsp;&nbsp;&nbsp;- About a fifth of an inch more drop\n",
    "<br>&nbsp;&nbsp;&nbsp;&nbsp;&nbsp;&nbsp;- Both at the 99% confidence level\n",
    "\n",
    "Two-seam fastballs:\n",
    "<br>&nbsp;&nbsp;&nbsp;&nbsp;&nbsp;&nbsp;- 2 and a half inches less run\n",
    "<br>&nbsp;&nbsp;&nbsp;&nbsp;&nbsp;&nbsp;- Almost 2 and a half inches less drop\n",
    "<br>&nbsp;&nbsp;&nbsp;&nbsp;&nbsp;&nbsp;- Both statistically significant, at 99% confidence level.\n",
    "\n",
    "Changeups:\n",
    "<br>&nbsp;&nbsp;&nbsp;&nbsp;&nbsp;&nbsp;- 2.8 inches less run\n",
    "<br>&nbsp;&nbsp;&nbsp;&nbsp;&nbsp;&nbsp;- About an inch more drop\n",
    "<br>&nbsp;&nbsp;&nbsp;&nbsp;&nbsp;&nbsp;- Both at the 99% confidence level\n",
    "\n",
    "Knuckle curves:\n",
    "<br>&nbsp;&nbsp;&nbsp;&nbsp;&nbsp;&nbsp;- A half-inch decrease in gloveside movement\n",
    "<br>&nbsp;&nbsp;&nbsp;&nbsp;&nbsp;&nbsp;- A slightly larger than one-tenth of an inch less drop\n",
    "<br>&nbsp;&nbsp;&nbsp;&nbsp;&nbsp;&nbsp;- Horizontal movement statistically significant at the 95% level, veritcal at 99% but again, not baseball significant.\n",
    "\n",
    "Curveballs:\n",
    "<br>&nbsp;&nbsp;&nbsp;&nbsp;&nbsp;&nbsp;- Almost 2 inches less movement to the glove side\n",
    "<br>&nbsp;&nbsp;&nbsp;&nbsp;&nbsp;&nbsp;- Essential no change in drop\n",
    "<br>&nbsp;&nbsp;&nbsp;&nbsp;&nbsp;&nbsp;- Both statistically significant at the 99% level, though the vertical movement isn't 'baseball' significant (no realistic change in movement)\n",
    "\n",
    "Split-finger fastballs:\n",
    "<br>&nbsp;&nbsp;&nbsp;&nbsp;&nbsp;&nbsp;- About an inch less run\n",
    "<br>&nbsp;&nbsp;&nbsp;&nbsp;&nbsp;&nbsp;- About an inch more drop\n",
    "<br>&nbsp;&nbsp;&nbsp;&nbsp;&nbsp;&nbsp;- Both at the 99% confidence level"
   ]
  },
  {
   "cell_type": "markdown",
   "metadata": {},
   "source": [
    "### Pitch Distribution\n",
    "\n",
    "To see the impacts of these changes in pitch movements in Colorado, I chose to breakdown pitch types in Colorado versus elsewhere. "
   ]
  },
  {
   "cell_type": "code",
   "execution_count": 7,
   "metadata": {
    "scrolled": false
   },
   "outputs": [
    {
     "name": "stderr",
     "output_type": "stream",
     "text": [
      "/Users/timb/anaconda2/lib/python2.7/site-packages/ipykernel_launcher.py:31: FutureWarning: 'select' is deprecated and will be removed in a future release. You can use .loc[labels.map(crit)] as a replacement\n",
      "/Users/timb/anaconda2/lib/python2.7/site-packages/seaborn/categorical.py:1508: FutureWarning: remove_na is deprecated and is a private function. Do not use.\n",
      "  stat_data = remove_na(group_data[hue_mask])\n"
     ]
    },
    {
     "name": "stdout",
     "output_type": "stream",
     "text": [
      "+---------+---------------+---------------+---------------------+\n",
      "| Pitch   |   Coors V-Mov |   Coors H-Mov |   Change in Use (%) |\n",
      "|---------+---------------+---------------+---------------------|\n",
      "| FF      |         -2.02 |         -1.95 |               11.95 |\n",
      "| FT      |         -2.55 |         -2.3  |               -6.44 |\n",
      "| SI      |         -1.55 |         -0.18 |               -3.82 |\n",
      "| CH      |         -2.78 |         -0.99 |               -2.01 |\n",
      "| SL      |          0.4  |         -1.48 |                1.36 |\n",
      "| KC      |          0.55 |          0.14 |               -1.28 |\n",
      "| FC      |          0.57 |         -2.34 |                1.1  |\n",
      "| FS      |         -1.06 |         -1.03 |               -1.05 |\n",
      "| CU      |          1.78 |         -0.06 |                0.19 |\n",
      "+---------+---------------+---------------+---------------------+\n"
     ]
    },
    {
     "data": {
      "text/plain": [
       "<matplotlib.text.Text at 0x115626e50>"
      ]
     },
     "execution_count": 7,
     "metadata": {},
     "output_type": "execute_result"
    },
    {
     "data": {
      "image/png": "[encoded data removed]",
      "text/plain": [
       "<matplotlib.figure.Figure at 0x119b26610>"
      ]
     },
     "metadata": {},
     "output_type": "display_data"
    }
   ],
   "source": [
    "## aggregate pitch types by thrown in Coloardo or not Colorado\n",
    "pitch_list = pd.crosstab(data_sp.pitch_type, data_sp.park_COL) \n",
    "pitch_list.columns = [\"Not Colorado\", \"Colorado\"]\n",
    "\n",
    "\n",
    "## copy the list from above and remove park thrown - will replace with % thrown in Col/not\n",
    "\n",
    "pitch_dist = pitch_list\n",
    "pitch_dist = pitch_dist.drop(['Colorado', 'Not Colorado'], axis = 1)\n",
    "\n",
    "\n",
    "## find the percentage of pitches that each pitch type is and format the data\n",
    "\n",
    "pitch_dist['Colorado'] = pitch_list['Colorado'] / sum(pitch_list['Colorado'])\n",
    "pitch_dist['Not Colorado'] = pitch_list['Not Colorado'] / sum(pitch_list['Not Colorado'])\n",
    "pitch_dist['Pitch Type'] = pitch_dist.index\n",
    "\n",
    "\n",
    "## create a new dataframe in the long format to plot from\n",
    "\n",
    "pitch_dist_plot = pd.melt(pitch_dist, id_vars=\"Pitch Type\", \n",
    "                          var_name = \"Location\", value_name = \"Frequency\")\n",
    "\n",
    "\n",
    "## aggregate Coors impact on movement and changes in pitch use frequency into dataframes\n",
    "\n",
    "    # find changes in frequency of pitches from Coors and elsewhere\n",
    "dist_changes = (pitch_dist['Colorado'].sub(pitch_dist['Not Colorado']) * 100).to_frame()\n",
    "\n",
    "    # grab movement data from regression dataframe\n",
    "colorado_results_move = colorado_results.select(lambda x: not re.search('P-Value', x), axis=1)\n",
    "\n",
    "\n",
    "## merge both dataframes and rename/reorder columns\n",
    "\n",
    "movement_dist = pd.merge(colorado_results_move, dist_changes,\n",
    "                         how = 'outer', left_on = \"Pitch\" , right_index = True)\n",
    "\n",
    "movement_dist.rename(columns={0:'Change in Use (%)'}, inplace=True)\n",
    "\n",
    "movement_dist = movement_dist[['Pitch', 'Coors V-Mov', 'Coors H-Mov', 'Change in Use (%)']].round(2)\n",
    "\n",
    "\n",
    "## sort dataframe by total change in each pitch type (absolute value)\n",
    "\n",
    "movement_dist = movement_dist.reindex(\n",
    "    movement_dist['Change in Use (%)'].abs().sort_values(ascending= False).index)\n",
    "\n",
    "\n",
    "## print summary of Coors effects in a nice format\n",
    "\n",
    "print tabulate(movement_dist.values, headers = movement_dist.columns, tablefmt = 'psql')\n",
    "\n",
    "\n",
    "## plot pitch distribution!\n",
    "\n",
    "sns.factorplot(x = 'Pitch Type', y = 'Frequency', hue = 'Location', \n",
    "\tdata = pitch_dist_plot, kind = 'bar')\n",
    "\n",
    "plt.title(\"Pitch Breakdown, Colorado & Not Colorado\")"
   ]
  },
  {
   "cell_type": "markdown",
   "metadata": {},
   "source": [
    "### Pitch Distribution Results\n",
    "\n",
    "<br>\n",
    "Remember, a positive horizontal movement change is less glove side or more arm side movement, and a positive vertical movement is more drop.\n",
    "***\n",
    "<br>\n",
    "The most significant pitch usage changes:\n",
    "<br>\n",
    "<br>\n",
    "<br>\n",
    "Four-seam fastballs saw a massive increase in use - 11%. This could be attributed to their estimated 2 inch decrease in drop or, in common terms, an increase in rise.\n",
    "\n",
    "Two-seam fastballs saw an approximately 6.5% decrease in usage. They saw an almost 2 and a half inch decrease in horizontal run and a 2 and a half inch decrease in vertical drop.\n",
    "\n",
    "Sinkers saw an almost 4% decrease in use, for a similar reason as the two-seamer. Sinkers experience a 1 and a half inch decrease in drop.\n",
    "\n",
    "Changeup usage was reduced by almost 2%. Again, likey because of an almost 3 inch reduction in drop.\n",
    "\n",
    "Sliders saw a 1.3% increase in usage, despite a 1 and a half inch reduction in horizontal movement and a half-inch decrease in drop.\n",
    "\n",
    "Knuckle curves experienced a 1.3% drop in usage. They broke gloveside slightly less and dropped a half-inch more.\n",
    "\n",
    "Cutters saw a 1.1% increase in usage. They experienced almost 2 and a half inches more cut with about a half inch more drop.\n",
    "\n",
    "Split-finger fastballs saw a 1% decrease in usage. Likely, this is due to a one inch decrease in drop and in armside run.\n",
    "\n",
    "Curveballs saw almost no change in usage (a very slight increase, .2%). They saw almost no change in horizontal run (.06 inch increase in cut) but did see an almost 2 inch increase in vertical drop."
   ]
  },
  {
   "cell_type": "code",
   "execution_count": 8,
   "metadata": {},
   "outputs": [
    {
     "data": {
      "text/plain": [
       "<matplotlib.axes._subplots.AxesSubplot at 0x1c1edd53d0>"
      ]
     },
     "execution_count": 8,
     "metadata": {},
     "output_type": "execute_result"
    },
    {
     "data": {
      "image/png": "[encoded data removed]",
      "text/plain": [
       "<matplotlib.figure.Figure at 0x10d441990>"
      ]
     },
     "metadata": {},
     "output_type": "display_data"
    }
   ],
   "source": [
    "## prepare a plot with subplots\n",
    "\n",
    "sns.set(style=\"darkgrid\")\n",
    "f, (ax1, ax2) = plt.subplots(1, 2, sharex = True, sharey = True)\n",
    "f.suptitle(\"Pitch Heat Maps, Pitcher's View\")\n",
    "plt.xlim(-1.5, 1.5)\n",
    "plt.ylim(1, 4)\n",
    "\n",
    "\n",
    "## plot pitch locations in heatmaps for in Colorado and elsewhere\n",
    "\n",
    "ax1.set_title(\"Not Colorado\")\n",
    "sns.kdeplot(data['plate_x'][data['park_COL'] != 1], data['plate_z'][data['park_COL'] != 1], \n",
    "            cmap = \"Reds\", shade = True, shade_lowest = False, ax = ax1)\n",
    "\n",
    "ax2.set_title(\"Colorado\")\n",
    "sns.kdeplot(data['plate_x'][data['park_COL'] == 1], data['plate_z'][data['park_COL'] == 1], \n",
    "            cmap = \"Blues\", shade = True, shade_lowest = False, ax = ax2)"
   ]
  },
  {
   "cell_type": "markdown",
   "metadata": {},
   "source": [
    "These heat maps of pitch locations are from the catcher's view, with (0, 2.5 feet) as the center of the plate. They may take a minute or two to load.\n",
    "\n",
    "Pitchers in Colorado seems to favor two locations, neither of which is where the rest of the league dominantl pitches. The first is over the left side of the plate, which is away from lefties and inside to righties. The second is up and in to lefties. My theory as to why these are the focal points of pitch locating in Colorad is that right field is where batted balls could cause the most damage, as the Rockies heightened the right-center field wall. Pitchers are trying to either have the ball hit to left field or weakly to right field. In another analysis, I may revist this idea and explore where in certain ballparks batted balls are most damaging. "
   ]
  },
  {
   "cell_type": "markdown",
   "metadata": {},
   "source": [
    "## Batting Analysis:\n",
    "\n"
   ]
  },
  {
   "cell_type": "code",
   "execution_count": 9,
   "metadata": {},
   "outputs": [
    {
     "data": {
      "image/png": "[encoded data removed]",
      "text/plain": [
       "<matplotlib.figure.Figure at 0x113e156d0>"
      ]
     },
     "metadata": {},
     "output_type": "display_data"
    }
   ],
   "source": [
    "## plot frequency plots for exit velocity in Colorado and everywhere else\n",
    "\n",
    "sns.kdeplot(data_bats['launch_speed'][data_bats['col'] == 1], shade = True, label = \"Colorado\")\n",
    "sns.kdeplot(data_bats['launch_speed'][data_bats['col'] != 1], shade = True, label = \"Not Colorado\")\n",
    "plt.legend()\n",
    "plt.title(\"Launch Speed, Colorado & Elsewhere\")\n",
    "plt.show()"
   ]
  },
  {
   "cell_type": "markdown",
   "metadata": {},
   "source": [
    "As seen above, the shape of exit velocity distributions are similar both in Colorado and out. In Colorado, however, There are fewer balls hit around 70-80 mph and more hit between about 85-95 mph. As exit velocity is measured off the bat, this would have to be influenced by changes in pitch characteristics - or batters swinging differently."
   ]
  },
  {
   "cell_type": "code",
   "execution_count": 10,
   "metadata": {},
   "outputs": [
    {
     "data": {
      "image/png": "[encoded data removed]",
      "text/plain": [
       "<matplotlib.figure.Figure at 0x114a976d0>"
      ]
     },
     "metadata": {},
     "output_type": "display_data"
    }
   ],
   "source": [
    "## plot frequency plots for launch angle in Colorado and everywhere else\n",
    "\n",
    "sns.kdeplot(data_bats['launch_angle'][data_bats['col'] == 1], shade = True, label = \"Colorado\")\n",
    "sns.kdeplot(data_bats['launch_angle'][data_bats['col'] != 1], shade = True, label = \"Not Colorado\")\n",
    "plt.legend()\n",
    "plt.title(\"Launch Angle, Colorado & Elsewhere\")\n",
    "plt.show()"
   ]
  },
  {
   "cell_type": "markdown",
   "metadata": {},
   "source": [
    "The launch angle distributions for in Colorado and outside Colorado are similar, as before. However, batters in Colorado hit more ground balls (in the -70 to -20 degree launch angle zone) and fewer fly balls (in the 5 to 40 degree launch angle zone). This is likely due to changes in pitch selection or zones pitched to by pitchers, but could also be a failed attempt by batters to elevate the ball more at altitude."
   ]
  },
  {
   "cell_type": "code",
   "execution_count": 11,
   "metadata": {},
   "outputs": [
    {
     "data": {
      "text/plain": [
       "<matplotlib.legend.Legend at 0x1c21529d90>"
      ]
     },
     "execution_count": 11,
     "metadata": {},
     "output_type": "execute_result"
    },
    {
     "data": {
      "image/png": "[encoded data removed]",
      "text/plain": [
       "<matplotlib.figure.Figure at 0x1c1abea690>"
      ]
     },
     "metadata": {},
     "output_type": "display_data"
    }
   ],
   "source": [
    "## remove all null string data in batted balls (earlier listed as 123456789)\n",
    "\n",
    "data_bats = data_bats[data_bats['bb_type'] != \"\"]\n",
    "\n",
    "\n",
    "## Gather batted ball data and format the data properly\n",
    "\n",
    "batted_balls = pd.crosstab(data_bats.bb_type, data_bats.col)\n",
    "batted_balls.columns = ['Not Colorado', 'Colorado']\n",
    "\n",
    "batted_balls_dist = batted_balls\n",
    "batted_balls_dist = batted_balls_dist.drop(['Colorado', 'Not Colorado'], axis = 1)\n",
    "\n",
    "\n",
    "## find the percentage of batted balls that each batted ball type is and format the data\n",
    "\n",
    "batted_balls_dist['Colorado'] = batted_balls['Colorado'] / sum(batted_balls['Colorado'])\n",
    "batted_balls_dist['Not Colorado'] = batted_balls['Not Colorado'] / sum(batted_balls['Not Colorado'])\n",
    "batted_balls_dist['Batted Ball Type'] = batted_balls_dist.index\n",
    "\n",
    "batted_balls_plot = pd.melt(batted_balls_dist, id_vars=\"Batted Ball Type\", var_name = \"Location\"\n",
    "\t, value_name = \"Frequency\")\n",
    "\n",
    "\n",
    "## plot!\n",
    "\n",
    "sns.factorplot(x = 'Batted Ball Type', y = 'Frequency', hue = 'Location', \n",
    "\tdata = batted_balls_plot, kind = 'bar', legend = False)\n",
    "\n",
    "plt.title(\"Batted Ball Breakdown, Colorado & Not Colorado\")\n",
    "plt.legend(loc = 'upper right')"
   ]
  },
  {
   "cell_type": "markdown",
   "metadata": {},
   "source": [
    "Whether a result of the changed pitch distribution, pitch location or batter approach, there is a noticable change in the batted ball distribution in Colorado versus elsewhere. There are fewer fly balls and pop ups and, to offset that, an increased amount of fly balls. There isn't much change in line drive rates, which is expected, as it is generally accepted that line drives, from a pitcher's perspective, appear as random occurances and aren't controllable."
   ]
  },
  {
   "cell_type": "markdown",
   "metadata": {
    "collapsed": true
   },
   "source": [
    "## Problems & Issues\n",
    "\n",
    "One problem I had was the result of what I assume to be incomplete modeling. I expected and still assume that altitude has a larger impact on pitches, specificaly breaking pitches, than what my model suggests. To fix this, I would need to search for different variables in this or other datasets, while considering different models as well, as the issue could be the model itself. \n",
    "\n",
    "Another problem I encountered was multicollinearity within my model. Many of the regressions ran had multicollinearity issues. Below is my calculation for the condition number of this model. A condition number of a function or model describes how much the dependent variable can change with a small change in the independent variables - a larger condition number implies an error in input variable measure will greatly increase the error in output variable. The condition number is extremely large, which heavily implies multicollinearity is an issue. It may be best to accept there is multicollinearity, likely through an instrumental variable I failed to account for. I will try to revisit this another day.\n",
    "\n",
    "An issue I had with this project was, in my opinion, the lack of structure in my plan to attack my hypothesis. There is enough data to make one's head spin! I chose to browse what I deemed were interesting or important details, but felt I left many out while at the same time not having a flow between pieces."
   ]
  },
  {
   "cell_type": "code",
   "execution_count": 12,
   "metadata": {},
   "outputs": [
    {
     "name": "stdout",
     "output_type": "stream",
     "text": [
      "\n",
      "Condition Number:  (2390.6431097181426+0j)\n"
     ]
    }
   ],
   "source": [
    "## source for this code: http://www.statsmodels.org/dev/examples/notebooks/generated/ols.html\n",
    "\n",
    "## \n",
    "norm_x = X.values\n",
    "for i, name in enumerate(X):\n",
    "    if name == \"const\":            ## skip the constant from the model\n",
    "        continue\n",
    "    norm_x[:,i] = X[name]/np.linalg.norm(X[name])    ## normalize values\n",
    "norm_xtx = np.dot(norm_x.T,norm_x)\n",
    "\n",
    "eigs = np.linalg.eigvals(norm_xtx)                   ## collect eigenvalues from normalized data\n",
    "condition_number = np.sqrt(eigs.max() / eigs.min())  ## calculate condition number\n",
    "\n",
    "print \"\\nCondition Number: \", (condition_number)"
   ]
  },
  {
   "cell_type": "markdown",
   "metadata": {
    "collapsed": true
   },
   "source": [
    "## Conclusion\n",
    "\n",
    "Altitude significantly affects pitches. This has been known by players, coaches and fans since Colorado received a Major League team. Batters hit the ball harder and higher (as well as lower) than elsewhere, likely to try to take advantage of the thinner atmosphere and further carry. Pitchers recognize these conditions and throw different pitches, in different locations, to prevent this. The distribution of batted balls in Colorado, compared to other stadiums, reflects this - there is a decrease in fly balls and increase in ground balls despite batters hitting the ball harder and likely trying to lift the ball. With strike-zone data, such as bat path and speed, I could explore that further.\n",
    "\n",
    "I was able to somewhat verify my hypothesis - many pitch types have a significant impact on vertical movement by altitude. Surprisingly, though, my model suggested altitude doesn't impact the most drastic breaking pitches, curveballs. I'm skeptical of these results, and need to further explore this.\n",
    "\n",
    "### Next Steps:\n",
    "\n",
    "- Work on the variables/statistical style of my model to more accurately analyze the data.\n",
    "- Gather more data to include in the model that could be missing and impacting my results.\n",
    "- Search for data on bat angle and speed to statistically see if there is a change in approach by batters, or batters of certain types."
   ]
  }
 ],
 "metadata": {
  "kernelspec": {
   "display_name": "Python 2",
   "language": "python",
   "name": "python2"
  },
  "language_info": {
   "codemirror_mode": {
    "name": "ipython",
    "version": 2
   },
   "file_extension": ".py",
   "mimetype": "text/x-python",
   "name": "python",
   "nbconvert_exporter": "python",
   "pygments_lexer": "ipython2",
   "version": "2.7.13"
  }
 },
 "nbformat": 4,
 "nbformat_minor": 2
}
